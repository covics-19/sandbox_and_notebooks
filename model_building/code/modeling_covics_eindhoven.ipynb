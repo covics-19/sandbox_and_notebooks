{
 "cells": [
  {
   "cell_type": "markdown",
   "metadata": {},
   "source": [
    "# Modeling COVID-19 Spread and Healthcare Capacity # "
   ]
  },
  {
   "cell_type": "markdown",
   "metadata": {},
   "source": [
    "Goal is to predict how many COVID-19 patients they will have to provide in-patient medical care for in the next 3 weeks. This will be achieved by modelling the infection rate. Regions that will not have enough resources to cope with their COVID-19 patients in any given week will be matched to a region that will have a surplus of medical resources that week, so that the burden can be shared and more patients can receive life-saving treatment."
   ]
  },
  {
   "cell_type": "code",
   "execution_count": 2,
   "metadata": {},
   "outputs": [],
   "source": [
    "import os\n",
    "import numpy as np\n",
    "import pandas as pd\n",
    "import matplotlib as mpl\n",
    "import matplotlib.pyplot as plt\n",
    "%matplotlib inline\n",
    "from scipy.optimize import curve_fit\n",
    "from operator import itemgetter\n",
    "import operator"
   ]
  },
  {
   "cell_type": "code",
   "execution_count": 3,
   "metadata": {},
   "outputs": [
    {
     "data": {
      "text/plain": [
       "['Eindhoven_Summary.ipynb',\n",
       " 'modeling_covics_eindhoven.ipynb',\n",
       " '.gitmodules',\n",
       " 'COVID-19',\n",
       " '.ipynb_checkpoints',\n",
       " 'modeling_covics.ipynb']"
      ]
     },
     "execution_count": 3,
     "metadata": {},
     "output_type": "execute_result"
    }
   ],
   "source": [
    "os.listdir(\"./\")"
   ]
  },
  {
   "cell_type": "code",
   "execution_count": 4,
   "metadata": {},
   "outputs": [],
   "source": [
    "# Load datasets\n",
    "\n",
    "covid_confirmed = pd.read_csv('./COVID-19/csse_covid_19_data/csse_covid_19_time_series/time_series_covid19_confirmed_global.csv')\n",
    "covid_deaths = pd.read_csv('./COVID-19/csse_covid_19_data/csse_covid_19_time_series/time_series_covid19_deaths_global.csv')\n",
    "covid_recovered = pd.read_csv('./COVID-19/csse_covid_19_data/csse_covid_19_time_series/time_series_covid19_recovered_global.csv')"
   ]
  },
  {
   "cell_type": "code",
   "execution_count": 5,
   "metadata": {},
   "outputs": [
    {
     "data": {
      "text/html": [
       "<div>\n",
       "<style scoped>\n",
       "    .dataframe tbody tr th:only-of-type {\n",
       "        vertical-align: middle;\n",
       "    }\n",
       "\n",
       "    .dataframe tbody tr th {\n",
       "        vertical-align: top;\n",
       "    }\n",
       "\n",
       "    .dataframe thead th {\n",
       "        text-align: right;\n",
       "    }\n",
       "</style>\n",
       "<table border=\"1\" class=\"dataframe\">\n",
       "  <thead>\n",
       "    <tr style=\"text-align: right;\">\n",
       "      <th></th>\n",
       "      <th>Province/State</th>\n",
       "      <th>Country/Region</th>\n",
       "      <th>Lat</th>\n",
       "      <th>Long</th>\n",
       "      <th>1/22/20</th>\n",
       "      <th>1/23/20</th>\n",
       "      <th>1/24/20</th>\n",
       "      <th>1/25/20</th>\n",
       "      <th>1/26/20</th>\n",
       "      <th>1/27/20</th>\n",
       "      <th>...</th>\n",
       "      <th>3/18/20</th>\n",
       "      <th>3/19/20</th>\n",
       "      <th>3/20/20</th>\n",
       "      <th>3/21/20</th>\n",
       "      <th>3/22/20</th>\n",
       "      <th>3/23/20</th>\n",
       "      <th>3/24/20</th>\n",
       "      <th>3/25/20</th>\n",
       "      <th>3/26/20</th>\n",
       "      <th>3/27/20</th>\n",
       "    </tr>\n",
       "  </thead>\n",
       "  <tbody>\n",
       "    <tr>\n",
       "      <th>0</th>\n",
       "      <td>NaN</td>\n",
       "      <td>Afghanistan</td>\n",
       "      <td>33.0000</td>\n",
       "      <td>65.0000</td>\n",
       "      <td>0</td>\n",
       "      <td>0</td>\n",
       "      <td>0</td>\n",
       "      <td>0</td>\n",
       "      <td>0</td>\n",
       "      <td>0</td>\n",
       "      <td>...</td>\n",
       "      <td>1</td>\n",
       "      <td>1</td>\n",
       "      <td>1</td>\n",
       "      <td>1</td>\n",
       "      <td>1</td>\n",
       "      <td>1</td>\n",
       "      <td>1</td>\n",
       "      <td>2</td>\n",
       "      <td>2</td>\n",
       "      <td>2</td>\n",
       "    </tr>\n",
       "    <tr>\n",
       "      <th>1</th>\n",
       "      <td>NaN</td>\n",
       "      <td>Albania</td>\n",
       "      <td>41.1533</td>\n",
       "      <td>20.1683</td>\n",
       "      <td>0</td>\n",
       "      <td>0</td>\n",
       "      <td>0</td>\n",
       "      <td>0</td>\n",
       "      <td>0</td>\n",
       "      <td>0</td>\n",
       "      <td>...</td>\n",
       "      <td>0</td>\n",
       "      <td>0</td>\n",
       "      <td>0</td>\n",
       "      <td>2</td>\n",
       "      <td>2</td>\n",
       "      <td>2</td>\n",
       "      <td>10</td>\n",
       "      <td>17</td>\n",
       "      <td>17</td>\n",
       "      <td>31</td>\n",
       "    </tr>\n",
       "    <tr>\n",
       "      <th>2</th>\n",
       "      <td>NaN</td>\n",
       "      <td>Algeria</td>\n",
       "      <td>28.0339</td>\n",
       "      <td>1.6596</td>\n",
       "      <td>0</td>\n",
       "      <td>0</td>\n",
       "      <td>0</td>\n",
       "      <td>0</td>\n",
       "      <td>0</td>\n",
       "      <td>0</td>\n",
       "      <td>...</td>\n",
       "      <td>12</td>\n",
       "      <td>32</td>\n",
       "      <td>32</td>\n",
       "      <td>32</td>\n",
       "      <td>65</td>\n",
       "      <td>65</td>\n",
       "      <td>24</td>\n",
       "      <td>65</td>\n",
       "      <td>29</td>\n",
       "      <td>29</td>\n",
       "    </tr>\n",
       "    <tr>\n",
       "      <th>3</th>\n",
       "      <td>NaN</td>\n",
       "      <td>Andorra</td>\n",
       "      <td>42.5063</td>\n",
       "      <td>1.5218</td>\n",
       "      <td>0</td>\n",
       "      <td>0</td>\n",
       "      <td>0</td>\n",
       "      <td>0</td>\n",
       "      <td>0</td>\n",
       "      <td>0</td>\n",
       "      <td>...</td>\n",
       "      <td>1</td>\n",
       "      <td>1</td>\n",
       "      <td>1</td>\n",
       "      <td>1</td>\n",
       "      <td>1</td>\n",
       "      <td>1</td>\n",
       "      <td>1</td>\n",
       "      <td>1</td>\n",
       "      <td>1</td>\n",
       "      <td>1</td>\n",
       "    </tr>\n",
       "    <tr>\n",
       "      <th>4</th>\n",
       "      <td>NaN</td>\n",
       "      <td>Angola</td>\n",
       "      <td>-11.2027</td>\n",
       "      <td>17.8739</td>\n",
       "      <td>0</td>\n",
       "      <td>0</td>\n",
       "      <td>0</td>\n",
       "      <td>0</td>\n",
       "      <td>0</td>\n",
       "      <td>0</td>\n",
       "      <td>...</td>\n",
       "      <td>0</td>\n",
       "      <td>0</td>\n",
       "      <td>0</td>\n",
       "      <td>0</td>\n",
       "      <td>0</td>\n",
       "      <td>0</td>\n",
       "      <td>0</td>\n",
       "      <td>0</td>\n",
       "      <td>0</td>\n",
       "      <td>0</td>\n",
       "    </tr>\n",
       "  </tbody>\n",
       "</table>\n",
       "<p>5 rows × 70 columns</p>\n",
       "</div>"
      ],
      "text/plain": [
       "  Province/State Country/Region      Lat     Long  1/22/20  1/23/20  1/24/20  \\\n",
       "0            NaN    Afghanistan  33.0000  65.0000        0        0        0   \n",
       "1            NaN        Albania  41.1533  20.1683        0        0        0   \n",
       "2            NaN        Algeria  28.0339   1.6596        0        0        0   \n",
       "3            NaN        Andorra  42.5063   1.5218        0        0        0   \n",
       "4            NaN         Angola -11.2027  17.8739        0        0        0   \n",
       "\n",
       "   1/25/20  1/26/20  1/27/20   ...     3/18/20  3/19/20  3/20/20  3/21/20  \\\n",
       "0        0        0        0   ...           1        1        1        1   \n",
       "1        0        0        0   ...           0        0        0        2   \n",
       "2        0        0        0   ...          12       32       32       32   \n",
       "3        0        0        0   ...           1        1        1        1   \n",
       "4        0        0        0   ...           0        0        0        0   \n",
       "\n",
       "   3/22/20  3/23/20  3/24/20  3/25/20  3/26/20  3/27/20  \n",
       "0        1        1        1        2        2        2  \n",
       "1        2        2       10       17       17       31  \n",
       "2       65       65       24       65       29       29  \n",
       "3        1        1        1        1        1        1  \n",
       "4        0        0        0        0        0        0  \n",
       "\n",
       "[5 rows x 70 columns]"
      ]
     },
     "execution_count": 5,
     "metadata": {},
     "output_type": "execute_result"
    }
   ],
   "source": [
    "# Load the start of these datasets\n",
    "covid_confirmed.head()\n",
    "covid_deaths.head()\n",
    "covid_recovered.head()"
   ]
  },
  {
   "cell_type": "code",
   "execution_count": 6,
   "metadata": {},
   "outputs": [
    {
     "name": "stdout",
     "output_type": "stream",
     "text": [
      "Total number of days in database: 70\n"
     ]
    }
   ],
   "source": [
    "# Extract all column names\n",
    "cols_keys = covid_confirmed.keys()\n",
    "# Make sure all datasets have the same columns\n",
    "# Test this code with covid_confirmed = covid_confirmed.drop(['Lat'], axis=1)\n",
    "lists = [covid_confirmed.keys(), covid_deaths.keys(), covid_recovered.keys()]\n",
    "it = iter(lists)\n",
    "the_len = len(cols_keys)\n",
    "if not all(len(l) == the_len for l in it):\n",
    "    raise ValueError('not all lists have same length!')\n",
    "\n",
    "print(f'Total number of days in database: {len(cols_keys)}')"
   ]
  },
  {
   "cell_type": "code",
   "execution_count": 7,
   "metadata": {},
   "outputs": [],
   "source": [
    "# Collect the counts for each date\n",
    "confirmed = covid_confirmed.loc[:, cols_keys[4]:cols_keys[-1]]\n",
    "deaths = covid_deaths.loc[:, cols_keys[4]:cols_keys[-1]]\n",
    "recovered = covid_recovered.loc[:, cols_keys[4]:cols_keys[-1]]\n",
    "dates = confirmed.keys()"
   ]
  },
  {
   "cell_type": "code",
   "execution_count": 8,
   "metadata": {},
   "outputs": [],
   "source": [
    "# Calculate totals, rates, and cumulative counts in the world\n",
    "total_confirmed_global = []\n",
    "total_deaths_global = []\n",
    "total_recovered_global = []\n",
    "mortality_rate_global = []\n",
    "for d in dates:\n",
    "    tmp_conf = confirmed[d].sum()\n",
    "    tmp_deat = deaths[d].sum()\n",
    "    tmp_reco = recovered[d].sum()\n",
    "    total_confirmed_global.append(tmp_conf)\n",
    "    total_deaths_global.append(tmp_deat)\n",
    "    total_recovered_global.append(tmp_reco)\n",
    "    mortality_rate_global.append(tmp_deat/tmp_conf)\n"
   ]
  },
  {
   "cell_type": "code",
   "execution_count": 9,
   "metadata": {},
   "outputs": [],
   "source": [
    "# convert to numpy arrays\n",
    "days = np.array([i for i in range(len(dates))]).reshape(-1,1)\n",
    "total_confirmed_global = np.array(total_confirmed_global).reshape(-1,1)\n",
    "total_deaths_global = np.array(total_deaths_global).reshape(-1,1)\n",
    "total_recovered_global = np.array(total_recovered_global).reshape(-1,1)"
   ]
  },
  {
   "cell_type": "code",
   "execution_count": 10,
   "metadata": {},
   "outputs": [],
   "source": [
    "# Exponential growth\n",
    "def func(x, a, b):\n",
    "    return a * np.exp(b * x) \n",
    "# Fit - but not working\n",
    "#days2 = np.array([i for i in range(len(dates))]).reshape(1,-1)\n",
    "#popt, pcov = curve_fit(func, days.ravel(),  total_confirmed.ravel())\n",
    "#plt.plot(days, total_confirmed, 'b-', days, func(days, *popt), 'g--')\n",
    "popt = [total_confirmed_global[0],0.1075]"
   ]
  },
  {
   "cell_type": "code",
   "execution_count": 11,
   "metadata": {},
   "outputs": [
    {
     "data": {
      "image/png": "[encoded data removed]",
      "text/plain": [
       "<Figure size 432x288 with 1 Axes>"
      ]
     },
     "metadata": {
      "needs_background": "light"
     },
     "output_type": "display_data"
    }
   ],
   "source": [
    "fig, ax = plt.subplots()\n",
    "ax.plot(days, total_confirmed_global, 'r--', label='Confirmed')\n",
    "ax.plot(days, total_deaths_global   , 'b--' , label='Deaths')\n",
    "ax.plot(days, total_recovered_global, 'g--' , label='Recovered')\n",
    "ax.plot(days, func(days, *popt), 'b^' , label='Exponential with growth factor = %.2f' % 10**popt[1])\n",
    "plt.legend()\n",
    "plt.xlabel('Days since %s' % dates[0])\n",
    "plt.ylabel('Total Global COVID-19 Cases')\n",
    "plt.show()"
   ]
  },
  {
   "cell_type": "code",
   "execution_count": 12,
   "metadata": {},
   "outputs": [],
   "source": [
    "# Future forcasting for the next 3 weeks\n",
    "# dates: actual dates\n",
    "days_in_future = 21\n",
    "future_forecast = np.array([i for i in range(len(dates)+days_in_future)]).reshape(-1,1) # days count including future forecasting\n",
    "adjusted_dates = future_forecast[:-days_in_future] # days count up to now\n"
   ]
  },
  {
   "cell_type": "code",
   "execution_count": 13,
   "metadata": {},
   "outputs": [],
   "source": [
    "# Convert all integers into datetime \n",
    "import datetime\n",
    "start = '1/22/2020'\n",
    "start_date = datetime.datetime.strptime(start,'%m/%d/%Y')\n",
    "future_forecast_dates = []\n",
    "for i in range(len(future_forecast)):\n",
    "    future_forecast_dates.append((start_date + datetime.timedelta(days=i)).strftime('%m/%d/%Y'))"
   ]
  },
  {
   "cell_type": "code",
   "execution_count": 14,
   "metadata": {},
   "outputs": [],
   "source": [
    "# Latest data\n",
    "latest_confirmed = covid_confirmed[dates[-1]]\n",
    "latest_deaths = covid_deaths[dates[-1]]\n",
    "latest_recovered = covid_recovered[dates[-1]]"
   ]
  },
  {
   "cell_type": "code",
   "execution_count": 15,
   "metadata": {},
   "outputs": [],
   "source": [
    "# List of unique countries\n",
    "unique_countries = list(covid_recovered['Country/Region'].unique())"
   ]
  },
  {
   "cell_type": "code",
   "execution_count": 16,
   "metadata": {},
   "outputs": [],
   "source": [
    "# Total number of cases by each country\n",
    "total_confirmed_by_country = []\n",
    "total_deaths_by_country = []\n",
    "total_recovered_by_country = []\n",
    "mortality_rate_by_country = []\n",
    "no_cases = []\n",
    "\n",
    "for i in unique_countries:\n",
    "    cases_confirmed = latest_confirmed[covid_confirmed['Country/Region']==i].sum()\n",
    "    cases_deaths = latest_deaths[covid_confirmed['Country/Region']==i].sum()\n",
    "    cases_recovered = latest_recovered[covid_confirmed['Country/Region']==i].sum()\n",
    "    #print(i, len(latest_confirmed[covid_confirmed['Country/Region']==i]))\n",
    "    if cases_confirmed > 0:\n",
    "        total_confirmed_by_country.append(cases_confirmed)\n",
    "    else:\n",
    "        no_cases.append(i)\n",
    "    if cases_deaths > 0:\n",
    "        total_deaths_by_country.append(cases_deaths)\n",
    "    if cases_recovered > 0:\n",
    "        total_recovered_by_country.append(cases_recovered)\n",
    "\n",
    "for i in no_cases:\n",
    "    unique_countries.remove(i)\n",
    "# Sort based on the number of cases\n",
    "unique_countries = [k for k,v in sorted(zip(unique_countries, total_confirmed_by_country), key=operator.itemgetter(1), reverse=True) ]\n",
    "for i in range(len(unique_countries)):\n",
    "    total_confirmed_by_country[i] = latest_confirmed[covid_confirmed['Country/Region']==unique_countries[i]].sum()"
   ]
  },
  {
   "cell_type": "code",
   "execution_count": 17,
   "metadata": {},
   "outputs": [
    {
     "name": "stdout",
     "output_type": "stream",
     "text": [
      "Confirmed cases by Countries/Regions\n",
      "US: 101657 cases\n",
      "Italy: 86498 cases\n",
      "China: 81897 cases\n",
      "Spain: 65719 cases\n",
      "Germany: 50871 cases\n",
      "France: 33402 cases\n",
      "Iran: 32332 cases\n",
      "United Kingdom: 14745 cases\n",
      "Switzerland: 12928 cases\n",
      "Korea, South: 9332 cases\n"
     ]
    }
   ],
   "source": [
    "# Print number of cases per country/area\n",
    "print('Confirmed cases by Countries/Regions')\n",
    "for i in range(len(unique_countries[:10])):\n",
    "    print(f'{unique_countries[i]}: {total_confirmed_by_country[i]} cases' )"
   ]
  },
  {
   "cell_type": "code",
   "execution_count": 29,
   "metadata": {},
   "outputs": [],
   "source": [
    "# List of unique province/state\n",
    "unique_provinces = list(covid_recovered['Province/State'].unique())\n"
   ]
  },
  {
   "cell_type": "markdown",
   "metadata": {},
   "source": [
    "## Step one - Analysis of provinces in China\n",
    "The first step is to understand how well the 3-parameter logistic growth curve model predicts cases in different provinces in China (Ahuja and Nash, 1967)  \n",
    "𝔼(𝑌𝑡) = 𝑀/(1 + exp(−𝛽(𝑡 − 𝛼))"
   ]
  },
  {
   "cell_type": "code",
   "execution_count": 130,
   "metadata": {},
   "outputs": [],
   "source": [
    "import numpy as np\n",
    "import scipy.stats as spst\n",
    "from scipy.optimize import leastsq\n",
    "    \n",
    "# create NLS class\n",
    "class NLS:\n",
    "    ''' This provides a wrapper for scipy.optimize.leastsq to get the relevant output for nonlinear least squares.\n",
    "    Although scipy provides curve_fit for that reason, curve_fit only returns parameter estimates and covariances. \n",
    "    This wrapper returns numerous statistics and diagnostics'''\n",
    " \n",
    "    def __init__(self, func, p0, xdata, ydata):\n",
    "        # Check the data\n",
    "        if len(xdata) != len(ydata):\n",
    "            msg = 'The number of observations does not match the number of rows for the predictors'\n",
    "            raise ValueError(msg)\n",
    " \n",
    "        # Check parameter estimates\n",
    "        if type(p0) != dict:\n",
    "            msg = \"Initial parameter estimates (p0) must be a dictionry of form p0={'a':1, 'b':2, etc}\"\n",
    "            raise ValueError(msg)\n",
    " \n",
    "        self.func = func\n",
    "        self.inits = p0.values()\n",
    "        self.xdata = xdata\n",
    "        self.ydata = ydata\n",
    "        self.nobs = len( ydata )\n",
    "        self.nparm= len( self.inits )\n",
    " \n",
    "        self.parmNames = list(p0.keys())\n",
    " \n",
    "        for i in range( len(self.parmNames) ):\n",
    "            if len(self.parmNames[i]) > 5:\n",
    "                self.parmNames[i] = self.parmNames[i][0:4]\n",
    " \n",
    "        # Run the model\n",
    "        self.mod1 = leastsq(self.func, self.inits, args = (self.xdata, self.ydata), full_output=1)\n",
    " \n",
    "        # Get the parameters\n",
    "        self.parmEsts = np.round( self.mod1[0], 4 )\n",
    " \n",
    "        # Get the Error variance and standard deviation\n",
    "        self.RSS = np.sum( self.mod1[2]['fvec']**2 )\n",
    "        self.df = self.nobs - self.nparm\n",
    "        self.MSE = self.RSS / self.df\n",
    "        self.RMSE = np.sqrt( self.MSE )\n",
    " \n",
    "        # Get the covariance matrix\n",
    "        self.cov = self.MSE * self.mod1[1]\n",
    " \n",
    "        # Get parameter standard errors\n",
    "        self.parmSE = np.diag( np.sqrt( self.cov ) )\n",
    " \n",
    "        # Calculate the t-values\n",
    "        self.tvals = self.parmEsts/self.parmSE\n",
    " \n",
    "        # Get p-values\n",
    "        self.pvals = (1 - spst.t.cdf( np.abs(self.tvals), self.df))*2\n",
    " \n",
    "        # Get biased variance (MLE) and calculate log-likehood\n",
    "        self.s2b = self.RSS / self.nobs\n",
    "        self.logLik = -self.nobs/2 * np.log(2*np.pi) - self.nobs/2 * np.log(self.s2b) - 1/(2*self.s2b) * self.RSS\n",
    " \n",
    "        del(self.mod1)\n",
    "        del(self.s2b)\n",
    "        del(self.inits)\n",
    " \n",
    "    # Get AIC. Add 1 to the df to account for estimation of standard error\n",
    "    def AIC(self, k=2):\n",
    "        return-2*self.logLik + k*(self.nparm + 1)\n",
    " \n",
    "    del(np)\n",
    "    del(leastsq)\n",
    " \n",
    "    # Print the summary\n",
    "    def summary(self):\n",
    "        print ()\n",
    "        print ('Non-linear least squares')\n",
    "        print ('Model: ' + self.func.func_name)\n",
    "        print ('Parameters:')\n",
    "        print (\" Estimate Std. Error t-value P(>|t|)\")\n",
    "        for i in range( len(self.parmNames) ):\n",
    "                print (\"% -5s % 5.4f % 5.4f % 5.4f % 5.4f\" % tuple( [self.parmNames[i], self.parmEsts[i], self.parmSE[i], self.tvals[i], self.pvals[i]] ))\n",
    "        print ()\n",
    "        print ('Residual Standard Error: % 5.4f' % self.RMSE)\n",
    "        print ('Df: %i' % self.df)"
   ]
  },
  {
   "cell_type": "code",
   "execution_count": 37,
   "metadata": {},
   "outputs": [
    {
     "data": {
      "text/html": [
       "<div>\n",
       "<style scoped>\n",
       "    .dataframe tbody tr th:only-of-type {\n",
       "        vertical-align: middle;\n",
       "    }\n",
       "\n",
       "    .dataframe tbody tr th {\n",
       "        vertical-align: top;\n",
       "    }\n",
       "\n",
       "    .dataframe thead th {\n",
       "        text-align: right;\n",
       "    }\n",
       "</style>\n",
       "<table border=\"1\" class=\"dataframe\">\n",
       "  <thead>\n",
       "    <tr style=\"text-align: right;\">\n",
       "      <th></th>\n",
       "      <th>Province/State</th>\n",
       "      <th>Country/Region</th>\n",
       "      <th>Lat</th>\n",
       "      <th>Long</th>\n",
       "      <th>1/22/20</th>\n",
       "      <th>1/23/20</th>\n",
       "      <th>1/24/20</th>\n",
       "      <th>1/25/20</th>\n",
       "      <th>1/26/20</th>\n",
       "      <th>1/27/20</th>\n",
       "      <th>...</th>\n",
       "      <th>3/18/20</th>\n",
       "      <th>3/19/20</th>\n",
       "      <th>3/20/20</th>\n",
       "      <th>3/21/20</th>\n",
       "      <th>3/22/20</th>\n",
       "      <th>3/23/20</th>\n",
       "      <th>3/24/20</th>\n",
       "      <th>3/25/20</th>\n",
       "      <th>3/26/20</th>\n",
       "      <th>3/27/20</th>\n",
       "    </tr>\n",
       "  </thead>\n",
       "  <tbody>\n",
       "    <tr>\n",
       "      <th>49</th>\n",
       "      <td>Anhui</td>\n",
       "      <td>China</td>\n",
       "      <td>31.8257</td>\n",
       "      <td>117.2264</td>\n",
       "      <td>1</td>\n",
       "      <td>9</td>\n",
       "      <td>15</td>\n",
       "      <td>39</td>\n",
       "      <td>60</td>\n",
       "      <td>70</td>\n",
       "      <td>...</td>\n",
       "      <td>990</td>\n",
       "      <td>990</td>\n",
       "      <td>990</td>\n",
       "      <td>990</td>\n",
       "      <td>990</td>\n",
       "      <td>990</td>\n",
       "      <td>990</td>\n",
       "      <td>990</td>\n",
       "      <td>990</td>\n",
       "      <td>990</td>\n",
       "    </tr>\n",
       "    <tr>\n",
       "      <th>50</th>\n",
       "      <td>Beijing</td>\n",
       "      <td>China</td>\n",
       "      <td>40.1824</td>\n",
       "      <td>116.4142</td>\n",
       "      <td>14</td>\n",
       "      <td>22</td>\n",
       "      <td>36</td>\n",
       "      <td>41</td>\n",
       "      <td>68</td>\n",
       "      <td>80</td>\n",
       "      <td>...</td>\n",
       "      <td>469</td>\n",
       "      <td>480</td>\n",
       "      <td>491</td>\n",
       "      <td>504</td>\n",
       "      <td>522</td>\n",
       "      <td>537</td>\n",
       "      <td>558</td>\n",
       "      <td>561</td>\n",
       "      <td>566</td>\n",
       "      <td>569</td>\n",
       "    </tr>\n",
       "    <tr>\n",
       "      <th>51</th>\n",
       "      <td>Chongqing</td>\n",
       "      <td>China</td>\n",
       "      <td>30.0572</td>\n",
       "      <td>107.8740</td>\n",
       "      <td>6</td>\n",
       "      <td>9</td>\n",
       "      <td>27</td>\n",
       "      <td>57</td>\n",
       "      <td>75</td>\n",
       "      <td>110</td>\n",
       "      <td>...</td>\n",
       "      <td>576</td>\n",
       "      <td>576</td>\n",
       "      <td>576</td>\n",
       "      <td>576</td>\n",
       "      <td>577</td>\n",
       "      <td>578</td>\n",
       "      <td>578</td>\n",
       "      <td>578</td>\n",
       "      <td>578</td>\n",
       "      <td>578</td>\n",
       "    </tr>\n",
       "    <tr>\n",
       "      <th>52</th>\n",
       "      <td>Fujian</td>\n",
       "      <td>China</td>\n",
       "      <td>26.0789</td>\n",
       "      <td>117.9874</td>\n",
       "      <td>1</td>\n",
       "      <td>5</td>\n",
       "      <td>10</td>\n",
       "      <td>18</td>\n",
       "      <td>35</td>\n",
       "      <td>59</td>\n",
       "      <td>...</td>\n",
       "      <td>296</td>\n",
       "      <td>296</td>\n",
       "      <td>299</td>\n",
       "      <td>303</td>\n",
       "      <td>313</td>\n",
       "      <td>313</td>\n",
       "      <td>318</td>\n",
       "      <td>322</td>\n",
       "      <td>328</td>\n",
       "      <td>331</td>\n",
       "    </tr>\n",
       "    <tr>\n",
       "      <th>53</th>\n",
       "      <td>Gansu</td>\n",
       "      <td>China</td>\n",
       "      <td>37.8099</td>\n",
       "      <td>101.0583</td>\n",
       "      <td>0</td>\n",
       "      <td>2</td>\n",
       "      <td>2</td>\n",
       "      <td>4</td>\n",
       "      <td>7</td>\n",
       "      <td>14</td>\n",
       "      <td>...</td>\n",
       "      <td>133</td>\n",
       "      <td>134</td>\n",
       "      <td>134</td>\n",
       "      <td>134</td>\n",
       "      <td>136</td>\n",
       "      <td>136</td>\n",
       "      <td>136</td>\n",
       "      <td>136</td>\n",
       "      <td>136</td>\n",
       "      <td>136</td>\n",
       "    </tr>\n",
       "  </tbody>\n",
       "</table>\n",
       "<p>5 rows × 70 columns</p>\n",
       "</div>"
      ],
      "text/plain": [
       "   Province/State Country/Region      Lat      Long  1/22/20  1/23/20  \\\n",
       "49          Anhui          China  31.8257  117.2264        1        9   \n",
       "50        Beijing          China  40.1824  116.4142       14       22   \n",
       "51      Chongqing          China  30.0572  107.8740        6        9   \n",
       "52         Fujian          China  26.0789  117.9874        1        5   \n",
       "53          Gansu          China  37.8099  101.0583        0        2   \n",
       "\n",
       "    1/24/20  1/25/20  1/26/20  1/27/20   ...     3/18/20  3/19/20  3/20/20  \\\n",
       "49       15       39       60       70   ...         990      990      990   \n",
       "50       36       41       68       80   ...         469      480      491   \n",
       "51       27       57       75      110   ...         576      576      576   \n",
       "52       10       18       35       59   ...         296      296      299   \n",
       "53        2        4        7       14   ...         133      134      134   \n",
       "\n",
       "    3/21/20  3/22/20  3/23/20  3/24/20  3/25/20  3/26/20  3/27/20  \n",
       "49      990      990      990      990      990      990      990  \n",
       "50      504      522      537      558      561      566      569  \n",
       "51      576      577      578      578      578      578      578  \n",
       "52      303      313      313      318      322      328      331  \n",
       "53      134      136      136      136      136      136      136  \n",
       "\n",
       "[5 rows x 70 columns]"
      ]
     },
     "execution_count": 37,
     "metadata": {},
     "output_type": "execute_result"
    }
   ],
   "source": [
    "# prepare data for modeling\n",
    "all_china = covid_confirmed[covid_confirmed['Country/Region']=='China']\n",
    "all_china.head()"
   ]
  },
  {
   "cell_type": "code",
   "execution_count": 42,
   "metadata": {},
   "outputs": [
    {
     "name": "stdout",
     "output_type": "stream",
     "text": [
      "66\n"
     ]
    }
   ],
   "source": [
    "# how many days?\n",
    "cols_keys = all_china.keys()\n",
    "print(len(cols_keys)-4) # 66 days"
   ]
  },
  {
   "cell_type": "code",
   "execution_count": 97,
   "metadata": {},
   "outputs": [],
   "source": [
    "# create df with cumulative number of cases, per region, per day\n",
    "regions = all_china['Province/State'].tolist()\n",
    "\n",
    "cumulative_confirmed_china = pd.DataFrame()\n",
    "for index,row in all_china.iterrows():\n",
    "    row2 = pd.DataFrame(row).T\n",
    "    cuml = row2.loc[:, cols_keys[4]:cols_keys[-1]].cumsum()\n",
    "    cumulative_confirmed_china = cumulative_confirmed_china.append(cuml)\n",
    "    \n",
    "# merge with province etc. information\n",
    "metadata = all_china[['Province/State','Country/Region','Lat','Long']]\n",
    "cumulative_confirmed_china_annot = pd.concat([metadata, cumulative_confirmed_china], axis=1)"
   ]
  },
  {
   "cell_type": "code",
   "execution_count": 107,
   "metadata": {},
   "outputs": [
    {
     "data": {
      "image/png": "[encoded data removed]",
      "text/plain": [
       "<Figure size 432x288 with 1 Axes>"
      ]
     },
     "metadata": {
      "needs_background": "light"
     },
     "output_type": "display_data"
    }
   ],
   "source": [
    "# let's plot one region just to see the curve\n",
    "anhui = cumulative_confirmed_china_annot.head(1)\n",
    "anhui_cases = anhui.loc[:, cols_keys[4]:cols_keys[-1]]\n",
    "anhui_cases = np.array(anhui_cases).reshape(-1,1)\n",
    "fig, ax = plt.subplots()\n",
    "ax.plot(days, anhui_cases, 'r--', label='Confirmed')\n",
    "plt.legend()\n",
    "plt.xlabel('Days since %s' % dates[0])\n",
    "plt.ylabel('Total Anhui, China COVID-19 Cases')\n",
    "plt.show()"
   ]
  },
  {
   "cell_type": "code",
   "execution_count": 136,
   "metadata": {
    "scrolled": true
   },
   "outputs": [
    {
     "ename": "IndexError",
     "evalue": "index 1 is out of bounds for axis 0 with size 1",
     "output_type": "error",
     "traceback": [
      "\u001b[0;31m---------------------------------------------------------------------------\u001b[0m",
      "\u001b[0;31mIndexError\u001b[0m                                Traceback (most recent call last)",
      "\u001b[0;32m<ipython-input-136-2ac579bd46ea>\u001b[0m in \u001b[0;36m<module>\u001b[0;34m\u001b[0m\n\u001b[1;32m     17\u001b[0m \u001b[0;34m\u001b[0m\u001b[0m\n\u001b[1;32m     18\u001b[0m \u001b[0;31m#tMod = NLS(nullMod, p0, respData['UrchinMass'], respData['respDaily'] )\u001b[0m\u001b[0;34m\u001b[0m\u001b[0;34m\u001b[0m\u001b[0;34m\u001b[0m\u001b[0m\n\u001b[0;32m---> 19\u001b[0;31m \u001b[0mtMod\u001b[0m \u001b[0;34m=\u001b[0m \u001b[0mNLS\u001b[0m\u001b[0;34m(\u001b[0m\u001b[0mnullMod\u001b[0m\u001b[0;34m,\u001b[0m \u001b[0mp0\u001b[0m\u001b[0;34m,\u001b[0m \u001b[0mdata\u001b[0m\u001b[0;34m[\u001b[0m\u001b[0;34m'days'\u001b[0m\u001b[0;34m]\u001b[0m\u001b[0;34m,\u001b[0m \u001b[0mdata\u001b[0m\u001b[0;34m[\u001b[0m\u001b[0;34m'cases'\u001b[0m\u001b[0;34m]\u001b[0m \u001b[0;34m)\u001b[0m\u001b[0;34m\u001b[0m\u001b[0;34m\u001b[0m\u001b[0m\n\u001b[0m\u001b[1;32m     20\u001b[0m \u001b[0;34m\u001b[0m\u001b[0m\n\u001b[1;32m     21\u001b[0m \u001b[0mtMod\u001b[0m\u001b[0;34m.\u001b[0m\u001b[0msummary\u001b[0m\u001b[0;34m(\u001b[0m\u001b[0;34m)\u001b[0m\u001b[0;34m\u001b[0m\u001b[0;34m\u001b[0m\u001b[0m\n",
      "\u001b[0;32m<ipython-input-130-8b0b9be240bd>\u001b[0m in \u001b[0;36m__init__\u001b[0;34m(self, func, p0, xdata, ydata)\u001b[0m\n\u001b[1;32m     39\u001b[0m \u001b[0;34m\u001b[0m\u001b[0m\n\u001b[1;32m     40\u001b[0m         \u001b[0;31m# Run the model\u001b[0m\u001b[0;34m\u001b[0m\u001b[0;34m\u001b[0m\u001b[0;34m\u001b[0m\u001b[0m\n\u001b[0;32m---> 41\u001b[0;31m         \u001b[0mself\u001b[0m\u001b[0;34m.\u001b[0m\u001b[0mmod1\u001b[0m \u001b[0;34m=\u001b[0m \u001b[0mleastsq\u001b[0m\u001b[0;34m(\u001b[0m\u001b[0mself\u001b[0m\u001b[0;34m.\u001b[0m\u001b[0mfunc\u001b[0m\u001b[0;34m,\u001b[0m \u001b[0mself\u001b[0m\u001b[0;34m.\u001b[0m\u001b[0minits\u001b[0m\u001b[0;34m,\u001b[0m \u001b[0margs\u001b[0m \u001b[0;34m=\u001b[0m \u001b[0;34m(\u001b[0m\u001b[0mself\u001b[0m\u001b[0;34m.\u001b[0m\u001b[0mxdata\u001b[0m\u001b[0;34m,\u001b[0m \u001b[0mself\u001b[0m\u001b[0;34m.\u001b[0m\u001b[0mydata\u001b[0m\u001b[0;34m)\u001b[0m\u001b[0;34m,\u001b[0m \u001b[0mfull_output\u001b[0m\u001b[0;34m=\u001b[0m\u001b[0;36m1\u001b[0m\u001b[0;34m)\u001b[0m\u001b[0;34m\u001b[0m\u001b[0;34m\u001b[0m\u001b[0m\n\u001b[0m\u001b[1;32m     42\u001b[0m \u001b[0;34m\u001b[0m\u001b[0m\n\u001b[1;32m     43\u001b[0m         \u001b[0;31m# Get the parameters\u001b[0m\u001b[0;34m\u001b[0m\u001b[0;34m\u001b[0m\u001b[0;34m\u001b[0m\u001b[0m\n",
      "\u001b[0;32m~/local/lib/python3.7/site-packages/scipy/optimize/minpack.py\u001b[0m in \u001b[0;36mleastsq\u001b[0;34m(func, x0, args, Dfun, full_output, col_deriv, ftol, xtol, gtol, maxfev, epsfcn, factor, diag)\u001b[0m\n\u001b[1;32m    381\u001b[0m     \u001b[0;32mif\u001b[0m \u001b[0;32mnot\u001b[0m \u001b[0misinstance\u001b[0m\u001b[0;34m(\u001b[0m\u001b[0margs\u001b[0m\u001b[0;34m,\u001b[0m \u001b[0mtuple\u001b[0m\u001b[0;34m)\u001b[0m\u001b[0;34m:\u001b[0m\u001b[0;34m\u001b[0m\u001b[0;34m\u001b[0m\u001b[0m\n\u001b[1;32m    382\u001b[0m         \u001b[0margs\u001b[0m \u001b[0;34m=\u001b[0m \u001b[0;34m(\u001b[0m\u001b[0margs\u001b[0m\u001b[0;34m,\u001b[0m\u001b[0;34m)\u001b[0m\u001b[0;34m\u001b[0m\u001b[0;34m\u001b[0m\u001b[0m\n\u001b[0;32m--> 383\u001b[0;31m     \u001b[0mshape\u001b[0m\u001b[0;34m,\u001b[0m \u001b[0mdtype\u001b[0m \u001b[0;34m=\u001b[0m \u001b[0m_check_func\u001b[0m\u001b[0;34m(\u001b[0m\u001b[0;34m'leastsq'\u001b[0m\u001b[0;34m,\u001b[0m \u001b[0;34m'func'\u001b[0m\u001b[0;34m,\u001b[0m \u001b[0mfunc\u001b[0m\u001b[0;34m,\u001b[0m \u001b[0mx0\u001b[0m\u001b[0;34m,\u001b[0m \u001b[0margs\u001b[0m\u001b[0;34m,\u001b[0m \u001b[0mn\u001b[0m\u001b[0;34m)\u001b[0m\u001b[0;34m\u001b[0m\u001b[0;34m\u001b[0m\u001b[0m\n\u001b[0m\u001b[1;32m    384\u001b[0m     \u001b[0mm\u001b[0m \u001b[0;34m=\u001b[0m \u001b[0mshape\u001b[0m\u001b[0;34m[\u001b[0m\u001b[0;36m0\u001b[0m\u001b[0;34m]\u001b[0m\u001b[0;34m\u001b[0m\u001b[0;34m\u001b[0m\u001b[0m\n\u001b[1;32m    385\u001b[0m     \u001b[0;32mif\u001b[0m \u001b[0mn\u001b[0m \u001b[0;34m>\u001b[0m \u001b[0mm\u001b[0m\u001b[0;34m:\u001b[0m\u001b[0;34m\u001b[0m\u001b[0;34m\u001b[0m\u001b[0m\n",
      "\u001b[0;32m~/local/lib/python3.7/site-packages/scipy/optimize/minpack.py\u001b[0m in \u001b[0;36m_check_func\u001b[0;34m(checker, argname, thefunc, x0, args, numinputs, output_shape)\u001b[0m\n\u001b[1;32m     25\u001b[0m def _check_func(checker, argname, thefunc, x0, args, numinputs,\n\u001b[1;32m     26\u001b[0m                 output_shape=None):\n\u001b[0;32m---> 27\u001b[0;31m     \u001b[0mres\u001b[0m \u001b[0;34m=\u001b[0m \u001b[0matleast_1d\u001b[0m\u001b[0;34m(\u001b[0m\u001b[0mthefunc\u001b[0m\u001b[0;34m(\u001b[0m\u001b[0;34m*\u001b[0m\u001b[0;34m(\u001b[0m\u001b[0;34m(\u001b[0m\u001b[0mx0\u001b[0m\u001b[0;34m[\u001b[0m\u001b[0;34m:\u001b[0m\u001b[0mnuminputs\u001b[0m\u001b[0;34m]\u001b[0m\u001b[0;34m,\u001b[0m\u001b[0;34m)\u001b[0m \u001b[0;34m+\u001b[0m \u001b[0margs\u001b[0m\u001b[0;34m)\u001b[0m\u001b[0;34m)\u001b[0m\u001b[0;34m)\u001b[0m\u001b[0;34m\u001b[0m\u001b[0;34m\u001b[0m\u001b[0m\n\u001b[0m\u001b[1;32m     28\u001b[0m     \u001b[0;32mif\u001b[0m \u001b[0;34m(\u001b[0m\u001b[0moutput_shape\u001b[0m \u001b[0;32mis\u001b[0m \u001b[0;32mnot\u001b[0m \u001b[0;32mNone\u001b[0m\u001b[0;34m)\u001b[0m \u001b[0;32mand\u001b[0m \u001b[0;34m(\u001b[0m\u001b[0mshape\u001b[0m\u001b[0;34m(\u001b[0m\u001b[0mres\u001b[0m\u001b[0;34m)\u001b[0m \u001b[0;34m!=\u001b[0m \u001b[0moutput_shape\u001b[0m\u001b[0;34m)\u001b[0m\u001b[0;34m:\u001b[0m\u001b[0;34m\u001b[0m\u001b[0;34m\u001b[0m\u001b[0m\n\u001b[1;32m     29\u001b[0m         \u001b[0;32mif\u001b[0m \u001b[0;34m(\u001b[0m\u001b[0moutput_shape\u001b[0m\u001b[0;34m[\u001b[0m\u001b[0;36m0\u001b[0m\u001b[0;34m]\u001b[0m \u001b[0;34m!=\u001b[0m \u001b[0;36m1\u001b[0m\u001b[0;34m)\u001b[0m\u001b[0;34m:\u001b[0m\u001b[0;34m\u001b[0m\u001b[0;34m\u001b[0m\u001b[0m\n",
      "\u001b[0;32m<ipython-input-136-2ac579bd46ea>\u001b[0m in \u001b[0;36mnullMod\u001b[0;34m(params, t, yObs)\u001b[0m\n\u001b[1;32m      7\u001b[0m \u001b[0;32mdef\u001b[0m \u001b[0mnullMod\u001b[0m\u001b[0;34m(\u001b[0m\u001b[0mparams\u001b[0m\u001b[0;34m,\u001b[0m \u001b[0mt\u001b[0m\u001b[0;34m,\u001b[0m \u001b[0myObs\u001b[0m\u001b[0;34m)\u001b[0m\u001b[0;34m:\u001b[0m\u001b[0;34m\u001b[0m\u001b[0;34m\u001b[0m\u001b[0m\n\u001b[1;32m      8\u001b[0m     \u001b[0mM\u001b[0m \u001b[0;34m=\u001b[0m \u001b[0mparams\u001b[0m\u001b[0;34m[\u001b[0m\u001b[0;36m0\u001b[0m\u001b[0;34m]\u001b[0m\u001b[0;34m\u001b[0m\u001b[0;34m\u001b[0m\u001b[0m\n\u001b[0;32m----> 9\u001b[0;31m     \u001b[0mbeta\u001b[0m \u001b[0;34m=\u001b[0m \u001b[0mparams\u001b[0m\u001b[0;34m[\u001b[0m\u001b[0;36m1\u001b[0m\u001b[0;34m]\u001b[0m\u001b[0;34m\u001b[0m\u001b[0;34m\u001b[0m\u001b[0m\n\u001b[0m\u001b[1;32m     10\u001b[0m     \u001b[0malpha\u001b[0m \u001b[0;34m=\u001b[0m \u001b[0mparams\u001b[0m\u001b[0;34m[\u001b[0m\u001b[0;36m2\u001b[0m\u001b[0;34m]\u001b[0m\u001b[0;34m\u001b[0m\u001b[0;34m\u001b[0m\u001b[0m\n\u001b[1;32m     11\u001b[0m \u001b[0;34m\u001b[0m\u001b[0m\n",
      "\u001b[0;31mIndexError\u001b[0m: index 1 is out of bounds for axis 0 with size 1"
     ]
    }
   ],
   "source": [
    "# execute NLS with Anhui, test \n",
    "data = anhui.loc[:, cols_keys[4]:cols_keys[-1]].T\n",
    "data['days'] = list(range(0,len(data)))\n",
    "data.columns=['cases','days']\n",
    "  \n",
    "# First, define the likelihood null model\n",
    "def nullMod(params, t, yObs):\n",
    "    M = params[0]\n",
    "    beta = params[1]\n",
    "    alpha = params[2]\n",
    " \n",
    "    yHat = M/(1+np.exp(-beta*(t-alpha)))\n",
    "    err = yObs - yHat\n",
    "    return(err)\n",
    " \n",
    "p0 = {'M':993, 'beta':0.28, 'alpha':13.3}\n",
    " \n",
    "#tMod = NLS(nullMod, p0, respData['UrchinMass'], respData['respDaily'] )\n",
    "tMod = NLS(nullMod, p0, data['days'], data['cases'] )\n",
    "\n",
    "tMod.summary()\n",
    " \n",
    "tMod.AIC()\n",
    " \n",
    "tMod.logLik"
   ]
  },
  {
   "cell_type": "markdown",
   "metadata": {},
   "source": [
    "### Modeling with lmfit"
   ]
  },
  {
   "cell_type": "code",
   "execution_count": 138,
   "metadata": {},
   "outputs": [
    {
     "ename": "ImportError",
     "evalue": "cannot import name 'dual_annealing' from 'scipy.optimize' (/Users/lh605/local/lib/python3.7/site-packages/scipy/optimize/__init__.py)",
     "output_type": "error",
     "traceback": [
      "\u001b[0;31m---------------------------------------------------------------------------\u001b[0m",
      "\u001b[0;31mImportError\u001b[0m                               Traceback (most recent call last)",
      "\u001b[0;32m<ipython-input-138-c300cf4ac886>\u001b[0m in \u001b[0;36m<module>\u001b[0;34m\u001b[0m\n\u001b[1;32m      1\u001b[0m \u001b[0;32mfrom\u001b[0m \u001b[0mnumpy\u001b[0m \u001b[0;32mimport\u001b[0m \u001b[0mexp\u001b[0m\u001b[0;34m,\u001b[0m \u001b[0msin\u001b[0m\u001b[0;34m\u001b[0m\u001b[0;34m\u001b[0m\u001b[0m\n\u001b[1;32m      2\u001b[0m \u001b[0;34m\u001b[0m\u001b[0m\n\u001b[0;32m----> 3\u001b[0;31m \u001b[0;32mfrom\u001b[0m \u001b[0mlmfit\u001b[0m \u001b[0;32mimport\u001b[0m \u001b[0mminimize\u001b[0m\u001b[0;34m,\u001b[0m \u001b[0mParameters\u001b[0m\u001b[0;34m\u001b[0m\u001b[0;34m\u001b[0m\u001b[0m\n\u001b[0m\u001b[1;32m      4\u001b[0m \u001b[0;34m\u001b[0m\u001b[0m\n\u001b[1;32m      5\u001b[0m \u001b[0;34m\u001b[0m\u001b[0m\n",
      "\u001b[0;32m~/local/lib/python3.7/site-packages/lmfit/__init__.py\u001b[0m in \u001b[0;36m<module>\u001b[0;34m\u001b[0m\n\u001b[1;32m     37\u001b[0m \u001b[0;32mfrom\u001b[0m \u001b[0masteval\u001b[0m \u001b[0;32mimport\u001b[0m \u001b[0mInterpreter\u001b[0m\u001b[0;34m\u001b[0m\u001b[0;34m\u001b[0m\u001b[0m\n\u001b[1;32m     38\u001b[0m \u001b[0;34m\u001b[0m\u001b[0m\n\u001b[0;32m---> 39\u001b[0;31m \u001b[0;32mfrom\u001b[0m \u001b[0;34m.\u001b[0m\u001b[0mconfidence\u001b[0m \u001b[0;32mimport\u001b[0m \u001b[0mconf_interval\u001b[0m\u001b[0;34m,\u001b[0m \u001b[0mconf_interval2d\u001b[0m\u001b[0;34m\u001b[0m\u001b[0;34m\u001b[0m\u001b[0m\n\u001b[0m\u001b[1;32m     40\u001b[0m \u001b[0;32mfrom\u001b[0m \u001b[0;34m.\u001b[0m\u001b[0mminimizer\u001b[0m \u001b[0;32mimport\u001b[0m \u001b[0mMinimizer\u001b[0m\u001b[0;34m,\u001b[0m \u001b[0mMinimizerException\u001b[0m\u001b[0;34m,\u001b[0m \u001b[0mminimize\u001b[0m\u001b[0;34m\u001b[0m\u001b[0;34m\u001b[0m\u001b[0m\n\u001b[1;32m     41\u001b[0m \u001b[0;32mfrom\u001b[0m \u001b[0;34m.\u001b[0m\u001b[0mparameter\u001b[0m \u001b[0;32mimport\u001b[0m \u001b[0mParameter\u001b[0m\u001b[0;34m,\u001b[0m \u001b[0mParameters\u001b[0m\u001b[0;34m\u001b[0m\u001b[0;34m\u001b[0m\u001b[0m\n",
      "\u001b[0;32m~/local/lib/python3.7/site-packages/lmfit/confidence.py\u001b[0m in \u001b[0;36m<module>\u001b[0;34m\u001b[0m\n\u001b[1;32m      8\u001b[0m \u001b[0;32mfrom\u001b[0m \u001b[0mscipy\u001b[0m\u001b[0;34m.\u001b[0m\u001b[0mstats\u001b[0m \u001b[0;32mimport\u001b[0m \u001b[0mf\u001b[0m\u001b[0;34m\u001b[0m\u001b[0;34m\u001b[0m\u001b[0m\n\u001b[1;32m      9\u001b[0m \u001b[0;34m\u001b[0m\u001b[0m\n\u001b[0;32m---> 10\u001b[0;31m \u001b[0;32mfrom\u001b[0m \u001b[0;34m.\u001b[0m\u001b[0mminimizer\u001b[0m \u001b[0;32mimport\u001b[0m \u001b[0mMinimizerException\u001b[0m\u001b[0;34m\u001b[0m\u001b[0;34m\u001b[0m\u001b[0m\n\u001b[0m\u001b[1;32m     11\u001b[0m \u001b[0;34m\u001b[0m\u001b[0m\n\u001b[1;32m     12\u001b[0m \u001b[0mCONF_ERR_GEN\u001b[0m \u001b[0;34m=\u001b[0m \u001b[0;34m'Cannot determine Confidence Intervals'\u001b[0m\u001b[0;34m\u001b[0m\u001b[0;34m\u001b[0m\u001b[0m\n",
      "\u001b[0;32m~/local/lib/python3.7/site-packages/lmfit/minimizer.py\u001b[0m in \u001b[0;36m<module>\u001b[0;34m\u001b[0m\n\u001b[1;32m     26\u001b[0m \u001b[0;32mfrom\u001b[0m \u001b[0mscipy\u001b[0m\u001b[0;34m.\u001b[0m\u001b[0moptimize\u001b[0m \u001b[0;32mimport\u001b[0m \u001b[0mbrute\u001b[0m \u001b[0;32mas\u001b[0m \u001b[0mscipy_brute\u001b[0m\u001b[0;34m\u001b[0m\u001b[0;34m\u001b[0m\u001b[0m\n\u001b[1;32m     27\u001b[0m \u001b[0;32mfrom\u001b[0m \u001b[0mscipy\u001b[0m\u001b[0;34m.\u001b[0m\u001b[0moptimize\u001b[0m \u001b[0;32mimport\u001b[0m \u001b[0mdifferential_evolution\u001b[0m\u001b[0;34m\u001b[0m\u001b[0;34m\u001b[0m\u001b[0m\n\u001b[0;32m---> 28\u001b[0;31m \u001b[0;32mfrom\u001b[0m \u001b[0mscipy\u001b[0m\u001b[0;34m.\u001b[0m\u001b[0moptimize\u001b[0m \u001b[0;32mimport\u001b[0m \u001b[0mdual_annealing\u001b[0m \u001b[0;32mas\u001b[0m \u001b[0mscipy_dual_annealing\u001b[0m\u001b[0;34m\u001b[0m\u001b[0;34m\u001b[0m\u001b[0m\n\u001b[0m\u001b[1;32m     29\u001b[0m \u001b[0;32mfrom\u001b[0m \u001b[0mscipy\u001b[0m\u001b[0;34m.\u001b[0m\u001b[0moptimize\u001b[0m \u001b[0;32mimport\u001b[0m \u001b[0mleast_squares\u001b[0m\u001b[0;34m\u001b[0m\u001b[0;34m\u001b[0m\u001b[0m\n\u001b[1;32m     30\u001b[0m \u001b[0;32mfrom\u001b[0m \u001b[0mscipy\u001b[0m\u001b[0;34m.\u001b[0m\u001b[0moptimize\u001b[0m \u001b[0;32mimport\u001b[0m \u001b[0mleastsq\u001b[0m \u001b[0;32mas\u001b[0m \u001b[0mscipy_leastsq\u001b[0m\u001b[0;34m\u001b[0m\u001b[0;34m\u001b[0m\u001b[0m\n",
      "\u001b[0;31mImportError\u001b[0m: cannot import name 'dual_annealing' from 'scipy.optimize' (/Users/lh605/local/lib/python3.7/site-packages/scipy/optimize/__init__.py)"
     ]
    }
   ],
   "source": [
    "from numpy import exp, sin\n",
    "\n",
    "from lmfit import minimize, Parameters\n",
    "\n",
    "\n",
    "def residual(params, x, data, eps_data):\n",
    "    amp = params['amp']\n",
    "    phaseshift = params['phase']\n",
    "    freq = params['frequency']\n",
    "    decay = params['decay']\n",
    "\n",
    "    model = amp * sin(x*freq + phaseshift) * exp(-x*x*decay)\n",
    "\n",
    "    return (data-model) / eps_data\n",
    "\n",
    "\n",
    "params = Parameters()\n",
    "params.add('amp', value=10)\n",
    "params.add('decay', value=0.007)\n",
    "params.add('phase', value=0.2)\n",
    "params.add('frequency', value=3.0)\n",
    "\n",
    "out = minimize(residual, params, args=(x, data, eps_data))"
   ]
  },
  {
   "cell_type": "code",
   "execution_count": 139,
   "metadata": {},
   "outputs": [
    {
     "ename": "ImportError",
     "evalue": "cannot import name 'dual_annealing' from 'scipy.optimize' (/Users/lh605/local/lib/python3.7/site-packages/scipy/optimize/__init__.py)",
     "output_type": "error",
     "traceback": [
      "\u001b[0;31m---------------------------------------------------------------------------\u001b[0m",
      "\u001b[0;31mImportError\u001b[0m                               Traceback (most recent call last)",
      "\u001b[0;32m<ipython-input-139-449f45935633>\u001b[0m in \u001b[0;36m<module>\u001b[0;34m\u001b[0m\n\u001b[0;32m----> 1\u001b[0;31m \u001b[0;32mfrom\u001b[0m \u001b[0mscipy\u001b[0m\u001b[0;34m.\u001b[0m\u001b[0moptimize\u001b[0m \u001b[0;32mimport\u001b[0m \u001b[0mdual_annealing\u001b[0m\u001b[0;34m\u001b[0m\u001b[0;34m\u001b[0m\u001b[0m\n\u001b[0m",
      "\u001b[0;31mImportError\u001b[0m: cannot import name 'dual_annealing' from 'scipy.optimize' (/Users/lh605/local/lib/python3.7/site-packages/scipy/optimize/__init__.py)"
     ]
    }
   ],
   "source": [
    "from scipy.optimize import dual_annealing"
   ]
  },
  {
   "cell_type": "code",
   "execution_count": null,
   "metadata": {},
   "outputs": [],
   "source": []
  }
 ],
 "metadata": {
  "kernelspec": {
   "display_name": "Python 3",
   "language": "python",
   "name": "python3"
  },
  "language_info": {
   "codemirror_mode": {
    "name": "ipython",
    "version": 3
   },
   "file_extension": ".py",
   "mimetype": "text/x-python",
   "name": "python",
   "nbconvert_exporter": "python",
   "pygments_lexer": "ipython3",
   "version": "3.7.3"
  }
 },
 "nbformat": 4,
 "nbformat_minor": 4
}
